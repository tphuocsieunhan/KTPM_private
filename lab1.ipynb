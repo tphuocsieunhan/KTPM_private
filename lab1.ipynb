import subprocess

# Biên dịch file C++
compile_cmd = ["g++", "solve_quartic_test.cpp", "-o", "solve_quartic_test"]
subprocess.run(compile_cmd, check=True)

# Chạy chương trình đã biên dịch
run_cmd = ["./solve_quartic_test"]
result = subprocess.run(run_cmd, capture_output=True, text=True)

print("=== Program Output ===")
print(result.stdout)
